{
  "nbformat": 4,
  "nbformat_minor": 0,
  "metadata": {
    "colab": {
      "provenance": []
    },
    "kernelspec": {
      "name": "python3",
      "display_name": "Python 3"
    },
    "language_info": {
      "name": "python"
    }
  },
  "cells": [
    {
      "cell_type": "code",
      "source": [
        "!pip install --upgrade --force-reinstall pandas\n"
      ],
      "metadata": {
        "colab": {
          "base_uri": "https://localhost:8080/",
          "height": 1000
        },
        "id": "07KZU09RigaM",
        "outputId": "b0844076-eda1-4f29-f725-e8d6d692e6b0"
      },
      "execution_count": 1,
      "outputs": [
        {
          "output_type": "stream",
          "name": "stdout",
          "text": [
            "Collecting pandas\n",
            "  Downloading pandas-2.3.1-cp311-cp311-manylinux_2_17_x86_64.manylinux2014_x86_64.whl.metadata (91 kB)\n",
            "\u001b[2K     \u001b[90m━━━━━━━━━━━━━━━━━━━━━━━━━━━━━━━━━━━━━━━━\u001b[0m \u001b[32m91.2/91.2 kB\u001b[0m \u001b[31m4.2 MB/s\u001b[0m eta \u001b[36m0:00:00\u001b[0m\n",
            "\u001b[?25hCollecting numpy>=1.23.2 (from pandas)\n",
            "  Downloading numpy-2.3.1-cp311-cp311-manylinux_2_28_x86_64.whl.metadata (62 kB)\n",
            "\u001b[2K     \u001b[90m━━━━━━━━━━━━━━━━━━━━━━━━━━━━━━━━━━━━━━━━\u001b[0m \u001b[32m62.1/62.1 kB\u001b[0m \u001b[31m4.4 MB/s\u001b[0m eta \u001b[36m0:00:00\u001b[0m\n",
            "\u001b[?25hCollecting python-dateutil>=2.8.2 (from pandas)\n",
            "  Downloading python_dateutil-2.9.0.post0-py2.py3-none-any.whl.metadata (8.4 kB)\n",
            "Collecting pytz>=2020.1 (from pandas)\n",
            "  Downloading pytz-2025.2-py2.py3-none-any.whl.metadata (22 kB)\n",
            "Collecting tzdata>=2022.7 (from pandas)\n",
            "  Downloading tzdata-2025.2-py2.py3-none-any.whl.metadata (1.4 kB)\n",
            "Collecting six>=1.5 (from python-dateutil>=2.8.2->pandas)\n",
            "  Downloading six-1.17.0-py2.py3-none-any.whl.metadata (1.7 kB)\n",
            "Downloading pandas-2.3.1-cp311-cp311-manylinux_2_17_x86_64.manylinux2014_x86_64.whl (12.4 MB)\n",
            "\u001b[2K   \u001b[90m━━━━━━━━━━━━━━━━━━━━━━━━━━━━━━━━━━━━━━━━\u001b[0m \u001b[32m12.4/12.4 MB\u001b[0m \u001b[31m48.3 MB/s\u001b[0m eta \u001b[36m0:00:00\u001b[0m\n",
            "\u001b[?25hDownloading numpy-2.3.1-cp311-cp311-manylinux_2_28_x86_64.whl (16.9 MB)\n",
            "\u001b[2K   \u001b[90m━━━━━━━━━━━━━━━━━━━━━━━━━━━━━━━━━━━━━━━━\u001b[0m \u001b[32m16.9/16.9 MB\u001b[0m \u001b[31m24.1 MB/s\u001b[0m eta \u001b[36m0:00:00\u001b[0m\n",
            "\u001b[?25hDownloading python_dateutil-2.9.0.post0-py2.py3-none-any.whl (229 kB)\n",
            "\u001b[2K   \u001b[90m━━━━━━━━━━━━━━━━━━━━━━━━━━━━━━━━━━━━━━━━\u001b[0m \u001b[32m229.9/229.9 kB\u001b[0m \u001b[31m3.3 MB/s\u001b[0m eta \u001b[36m0:00:00\u001b[0m\n",
            "\u001b[?25hDownloading pytz-2025.2-py2.py3-none-any.whl (509 kB)\n",
            "\u001b[2K   \u001b[90m━━━━━━━━━━━━━━━━━━━━━━━━━━━━━━━━━━━━━━━━\u001b[0m \u001b[32m509.2/509.2 kB\u001b[0m \u001b[31m16.8 MB/s\u001b[0m eta \u001b[36m0:00:00\u001b[0m\n",
            "\u001b[?25hDownloading tzdata-2025.2-py2.py3-none-any.whl (347 kB)\n",
            "\u001b[2K   \u001b[90m━━━━━━━━━━━━━━━━━━━━━━━━━━━━━━━━━━━━━━━━\u001b[0m \u001b[32m347.8/347.8 kB\u001b[0m \u001b[31m12.0 MB/s\u001b[0m eta \u001b[36m0:00:00\u001b[0m\n",
            "\u001b[?25hDownloading six-1.17.0-py2.py3-none-any.whl (11 kB)\n",
            "Installing collected packages: pytz, tzdata, six, numpy, python-dateutil, pandas\n",
            "  Attempting uninstall: pytz\n",
            "    Found existing installation: pytz 2025.2\n",
            "    Uninstalling pytz-2025.2:\n",
            "      Successfully uninstalled pytz-2025.2\n",
            "  Attempting uninstall: tzdata\n",
            "    Found existing installation: tzdata 2025.2\n",
            "    Uninstalling tzdata-2025.2:\n",
            "      Successfully uninstalled tzdata-2025.2\n",
            "  Attempting uninstall: six\n",
            "    Found existing installation: six 1.17.0\n",
            "    Uninstalling six-1.17.0:\n",
            "      Successfully uninstalled six-1.17.0\n",
            "  Attempting uninstall: numpy\n",
            "    Found existing installation: numpy 2.0.2\n",
            "    Uninstalling numpy-2.0.2:\n",
            "      Successfully uninstalled numpy-2.0.2\n",
            "  Attempting uninstall: python-dateutil\n",
            "    Found existing installation: python-dateutil 2.9.0.post0\n",
            "    Uninstalling python-dateutil-2.9.0.post0:\n",
            "      Successfully uninstalled python-dateutil-2.9.0.post0\n",
            "  Attempting uninstall: pandas\n",
            "    Found existing installation: pandas 2.2.2\n",
            "    Uninstalling pandas-2.2.2:\n",
            "      Successfully uninstalled pandas-2.2.2\n",
            "\u001b[31mERROR: pip's dependency resolver does not currently take into account all the packages that are installed. This behaviour is the source of the following dependency conflicts.\n",
            "google-colab 1.0.0 requires pandas==2.2.2, but you have pandas 2.3.1 which is incompatible.\n",
            "numba 0.60.0 requires numpy<2.1,>=1.22, but you have numpy 2.3.1 which is incompatible.\n",
            "cudf-cu12 25.2.1 requires pandas<2.2.4dev0,>=2.0, but you have pandas 2.3.1 which is incompatible.\n",
            "opencv-python-headless 4.12.0.88 requires numpy<2.3.0,>=2; python_version >= \"3.9\", but you have numpy 2.3.1 which is incompatible.\n",
            "cupy-cuda12x 13.3.0 requires numpy<2.3,>=1.22, but you have numpy 2.3.1 which is incompatible.\n",
            "tensorflow 2.18.0 requires numpy<2.1.0,>=1.26.0, but you have numpy 2.3.1 which is incompatible.\n",
            "dask-cudf-cu12 25.2.2 requires pandas<2.2.4dev0,>=2.0, but you have pandas 2.3.1 which is incompatible.\u001b[0m\u001b[31m\n",
            "\u001b[0mSuccessfully installed numpy-2.3.1 pandas-2.3.1 python-dateutil-2.9.0.post0 pytz-2025.2 six-1.17.0 tzdata-2025.2\n"
          ]
        },
        {
          "output_type": "display_data",
          "data": {
            "application/vnd.colab-display-data+json": {
              "pip_warning": {
                "packages": [
                  "dateutil",
                  "numpy",
                  "six"
                ]
              },
              "id": "acc99a3ea8a54716a2fd022f01c1bf0a"
            }
          },
          "metadata": {}
        }
      ]
    },
    {
      "cell_type": "code",
      "source": [
        "from google.colab import files\n",
        "import zipfile\n",
        "import os\n",
        "import pandas as pd\n",
        "\n",
        "# 1. zip 파일 업로드 받기\n",
        "uploaded = files.upload()  # dataset.zip을 올려주세요!\n",
        "\n",
        "# 2. 압축 해제\n",
        "with zipfile.ZipFile(\"dataset.zip\", 'r') as zip_ref:\n",
        "    zip_ref.extractall(\"dataset\")\n",
        "print(\"✅ 압축 해제 완료!\")\n",
        "\n",
        "# 3. CSV 생성\n",
        "DATASET_DIR = \"dataset/dataset\"\n",
        "image_paths, object_types, material_types = [], [], []\n",
        "\n",
        "for obj in os.listdir(DATASET_DIR):\n",
        "    obj_path = os.path.join(DATASET_DIR, obj)\n",
        "\n",
        "    if obj == 'cup':\n",
        "        for material in os.listdir(obj_path):\n",
        "            mat_path = os.path.join(obj_path, material)\n",
        "\n",
        "            if os.path.isdir(mat_path):  # ✅ 폴더일 때만 탐색\n",
        "                for fname in os.listdir(mat_path):\n",
        "                    if fname.lower().endswith(('.jpg', '.jpeg', '.png')):\n",
        "                        image_paths.append(os.path.join(mat_path, fname))\n",
        "                        object_types.append(obj)\n",
        "                        material_types.append(material)\n",
        "\n",
        "    elif obj == 'straw':\n",
        "        for sub in os.listdir(obj_path):\n",
        "            sub_path = os.path.join(obj_path, sub)\n",
        "\n",
        "            if os.path.isdir(sub_path):  # ✅ 하위 폴더\n",
        "                for fname in os.listdir(sub_path):\n",
        "                    if fname.lower().endswith(('.jpg', '.jpeg', '.png')):\n",
        "                        image_paths.append(os.path.join(sub_path, fname))\n",
        "                        object_types.append(obj)\n",
        "                        material_types.append(\"plastic\")\n",
        "            elif sub.lower().endswith(('.jpg', '.jpeg', '.png')):  # ✅ 파일 바로 있는 경우\n",
        "                image_paths.append(os.path.join(obj_path, sub))\n",
        "                object_types.append(obj)\n",
        "                material_types.append(\"plastic\")\n",
        "\n",
        "    elif obj == 'cupholder':\n",
        "        for fname in os.listdir(obj_path):\n",
        "            if fname.lower().endswith(('.jpg', '.jpeg', '.png')):\n",
        "                image_paths.append(os.path.join(obj_path, fname))\n",
        "                object_types.append(obj)\n",
        "                material_types.append(\"paper\")  # ✅ 고정\n",
        "\n",
        "    elif obj == 'lid':\n",
        "        for fname in os.listdir(obj_path):\n",
        "            if fname.lower().endswith(('.jpg', '.jpeg', '.png')):\n",
        "                image_paths.append(os.path.join(obj_path, fname))\n",
        "                object_types.append(obj)\n",
        "                material_types.append(\"plastic\")  # ✅ 고정\n",
        "\n",
        "# 4. CSV 생성 및 저장\n",
        "df = pd.DataFrame({\n",
        "    \"image_path\": image_paths,\n",
        "    \"object_type\": object_types,\n",
        "    \"material_type\": material_types\n",
        "})\n",
        "df.to_csv(\"labels.csv\", index=False)\n",
        "print(\"✅ labels.csv 생성 완료!\")\n",
        "\n",
        "# 5. 다운로드 (선택)\n",
        "files.download(\"labels.csv\")\n"
      ],
      "metadata": {
        "colab": {
          "base_uri": "https://localhost:8080/",
          "height": 113
        },
        "id": "RwqKu9FscC8o",
        "outputId": "b0f8c761-0188-4d4d-c9f4-486a866a592e"
      },
      "execution_count": 2,
      "outputs": [
        {
          "output_type": "display_data",
          "data": {
            "text/plain": [
              "<IPython.core.display.HTML object>"
            ],
            "text/html": [
              "\n",
              "     <input type=\"file\" id=\"files-b57f7ad7-03ee-4a58-a456-3b9f8672d352\" name=\"files[]\" multiple disabled\n",
              "        style=\"border:none\" />\n",
              "     <output id=\"result-b57f7ad7-03ee-4a58-a456-3b9f8672d352\">\n",
              "      Upload widget is only available when the cell has been executed in the\n",
              "      current browser session. Please rerun this cell to enable.\n",
              "      </output>\n",
              "      <script>// Copyright 2017 Google LLC\n",
              "//\n",
              "// Licensed under the Apache License, Version 2.0 (the \"License\");\n",
              "// you may not use this file except in compliance with the License.\n",
              "// You may obtain a copy of the License at\n",
              "//\n",
              "//      http://www.apache.org/licenses/LICENSE-2.0\n",
              "//\n",
              "// Unless required by applicable law or agreed to in writing, software\n",
              "// distributed under the License is distributed on an \"AS IS\" BASIS,\n",
              "// WITHOUT WARRANTIES OR CONDITIONS OF ANY KIND, either express or implied.\n",
              "// See the License for the specific language governing permissions and\n",
              "// limitations under the License.\n",
              "\n",
              "/**\n",
              " * @fileoverview Helpers for google.colab Python module.\n",
              " */\n",
              "(function(scope) {\n",
              "function span(text, styleAttributes = {}) {\n",
              "  const element = document.createElement('span');\n",
              "  element.textContent = text;\n",
              "  for (const key of Object.keys(styleAttributes)) {\n",
              "    element.style[key] = styleAttributes[key];\n",
              "  }\n",
              "  return element;\n",
              "}\n",
              "\n",
              "// Max number of bytes which will be uploaded at a time.\n",
              "const MAX_PAYLOAD_SIZE = 100 * 1024;\n",
              "\n",
              "function _uploadFiles(inputId, outputId) {\n",
              "  const steps = uploadFilesStep(inputId, outputId);\n",
              "  const outputElement = document.getElementById(outputId);\n",
              "  // Cache steps on the outputElement to make it available for the next call\n",
              "  // to uploadFilesContinue from Python.\n",
              "  outputElement.steps = steps;\n",
              "\n",
              "  return _uploadFilesContinue(outputId);\n",
              "}\n",
              "\n",
              "// This is roughly an async generator (not supported in the browser yet),\n",
              "// where there are multiple asynchronous steps and the Python side is going\n",
              "// to poll for completion of each step.\n",
              "// This uses a Promise to block the python side on completion of each step,\n",
              "// then passes the result of the previous step as the input to the next step.\n",
              "function _uploadFilesContinue(outputId) {\n",
              "  const outputElement = document.getElementById(outputId);\n",
              "  const steps = outputElement.steps;\n",
              "\n",
              "  const next = steps.next(outputElement.lastPromiseValue);\n",
              "  return Promise.resolve(next.value.promise).then((value) => {\n",
              "    // Cache the last promise value to make it available to the next\n",
              "    // step of the generator.\n",
              "    outputElement.lastPromiseValue = value;\n",
              "    return next.value.response;\n",
              "  });\n",
              "}\n",
              "\n",
              "/**\n",
              " * Generator function which is called between each async step of the upload\n",
              " * process.\n",
              " * @param {string} inputId Element ID of the input file picker element.\n",
              " * @param {string} outputId Element ID of the output display.\n",
              " * @return {!Iterable<!Object>} Iterable of next steps.\n",
              " */\n",
              "function* uploadFilesStep(inputId, outputId) {\n",
              "  const inputElement = document.getElementById(inputId);\n",
              "  inputElement.disabled = false;\n",
              "\n",
              "  const outputElement = document.getElementById(outputId);\n",
              "  outputElement.innerHTML = '';\n",
              "\n",
              "  const pickedPromise = new Promise((resolve) => {\n",
              "    inputElement.addEventListener('change', (e) => {\n",
              "      resolve(e.target.files);\n",
              "    });\n",
              "  });\n",
              "\n",
              "  const cancel = document.createElement('button');\n",
              "  inputElement.parentElement.appendChild(cancel);\n",
              "  cancel.textContent = 'Cancel upload';\n",
              "  const cancelPromise = new Promise((resolve) => {\n",
              "    cancel.onclick = () => {\n",
              "      resolve(null);\n",
              "    };\n",
              "  });\n",
              "\n",
              "  // Wait for the user to pick the files.\n",
              "  const files = yield {\n",
              "    promise: Promise.race([pickedPromise, cancelPromise]),\n",
              "    response: {\n",
              "      action: 'starting',\n",
              "    }\n",
              "  };\n",
              "\n",
              "  cancel.remove();\n",
              "\n",
              "  // Disable the input element since further picks are not allowed.\n",
              "  inputElement.disabled = true;\n",
              "\n",
              "  if (!files) {\n",
              "    return {\n",
              "      response: {\n",
              "        action: 'complete',\n",
              "      }\n",
              "    };\n",
              "  }\n",
              "\n",
              "  for (const file of files) {\n",
              "    const li = document.createElement('li');\n",
              "    li.append(span(file.name, {fontWeight: 'bold'}));\n",
              "    li.append(span(\n",
              "        `(${file.type || 'n/a'}) - ${file.size} bytes, ` +\n",
              "        `last modified: ${\n",
              "            file.lastModifiedDate ? file.lastModifiedDate.toLocaleDateString() :\n",
              "                                    'n/a'} - `));\n",
              "    const percent = span('0% done');\n",
              "    li.appendChild(percent);\n",
              "\n",
              "    outputElement.appendChild(li);\n",
              "\n",
              "    const fileDataPromise = new Promise((resolve) => {\n",
              "      const reader = new FileReader();\n",
              "      reader.onload = (e) => {\n",
              "        resolve(e.target.result);\n",
              "      };\n",
              "      reader.readAsArrayBuffer(file);\n",
              "    });\n",
              "    // Wait for the data to be ready.\n",
              "    let fileData = yield {\n",
              "      promise: fileDataPromise,\n",
              "      response: {\n",
              "        action: 'continue',\n",
              "      }\n",
              "    };\n",
              "\n",
              "    // Use a chunked sending to avoid message size limits. See b/62115660.\n",
              "    let position = 0;\n",
              "    do {\n",
              "      const length = Math.min(fileData.byteLength - position, MAX_PAYLOAD_SIZE);\n",
              "      const chunk = new Uint8Array(fileData, position, length);\n",
              "      position += length;\n",
              "\n",
              "      const base64 = btoa(String.fromCharCode.apply(null, chunk));\n",
              "      yield {\n",
              "        response: {\n",
              "          action: 'append',\n",
              "          file: file.name,\n",
              "          data: base64,\n",
              "        },\n",
              "      };\n",
              "\n",
              "      let percentDone = fileData.byteLength === 0 ?\n",
              "          100 :\n",
              "          Math.round((position / fileData.byteLength) * 100);\n",
              "      percent.textContent = `${percentDone}% done`;\n",
              "\n",
              "    } while (position < fileData.byteLength);\n",
              "  }\n",
              "\n",
              "  // All done.\n",
              "  yield {\n",
              "    response: {\n",
              "      action: 'complete',\n",
              "    }\n",
              "  };\n",
              "}\n",
              "\n",
              "scope.google = scope.google || {};\n",
              "scope.google.colab = scope.google.colab || {};\n",
              "scope.google.colab._files = {\n",
              "  _uploadFiles,\n",
              "  _uploadFilesContinue,\n",
              "};\n",
              "})(self);\n",
              "</script> "
            ]
          },
          "metadata": {}
        },
        {
          "output_type": "stream",
          "name": "stdout",
          "text": [
            "Saving dataset.zip to dataset (1).zip\n",
            "✅ 압축 해제 완료!\n",
            "✅ labels.csv 생성 완료!\n"
          ]
        },
        {
          "output_type": "display_data",
          "data": {
            "text/plain": [
              "<IPython.core.display.Javascript object>"
            ],
            "application/javascript": [
              "\n",
              "    async function download(id, filename, size) {\n",
              "      if (!google.colab.kernel.accessAllowed) {\n",
              "        return;\n",
              "      }\n",
              "      const div = document.createElement('div');\n",
              "      const label = document.createElement('label');\n",
              "      label.textContent = `Downloading \"${filename}\": `;\n",
              "      div.appendChild(label);\n",
              "      const progress = document.createElement('progress');\n",
              "      progress.max = size;\n",
              "      div.appendChild(progress);\n",
              "      document.body.appendChild(div);\n",
              "\n",
              "      const buffers = [];\n",
              "      let downloaded = 0;\n",
              "\n",
              "      const channel = await google.colab.kernel.comms.open(id);\n",
              "      // Send a message to notify the kernel that we're ready.\n",
              "      channel.send({})\n",
              "\n",
              "      for await (const message of channel.messages) {\n",
              "        // Send a message to notify the kernel that we're ready.\n",
              "        channel.send({})\n",
              "        if (message.buffers) {\n",
              "          for (const buffer of message.buffers) {\n",
              "            buffers.push(buffer);\n",
              "            downloaded += buffer.byteLength;\n",
              "            progress.value = downloaded;\n",
              "          }\n",
              "        }\n",
              "      }\n",
              "      const blob = new Blob(buffers, {type: 'application/binary'});\n",
              "      const a = document.createElement('a');\n",
              "      a.href = window.URL.createObjectURL(blob);\n",
              "      a.download = filename;\n",
              "      div.appendChild(a);\n",
              "      a.click();\n",
              "      div.remove();\n",
              "    }\n",
              "  "
            ]
          },
          "metadata": {}
        },
        {
          "output_type": "display_data",
          "data": {
            "text/plain": [
              "<IPython.core.display.Javascript object>"
            ],
            "application/javascript": [
              "download(\"download_5a96c47d-557b-4ea8-b323-6f9f5d14af37\", \"labels.csv\", 14081)"
            ]
          },
          "metadata": {}
        }
      ]
    },
    {
      "cell_type": "code",
      "source": [
        "import pandas as pd\n",
        "\n",
        "df = pd.read_csv(\"/content/labels.csv\")  # 경로 주의\n",
        "\n",
        "object_type_map = {'cup': 0, 'cupholder': 1, 'lid': 2, 'straw': 3}\n",
        "material_type_map = {'paper': 0, 'plastic': 1}\n",
        "\n",
        "df['object_label'] = df['object_type'].map(object_type_map)\n",
        "df['material_label'] = df['material_type'].map(material_type_map)\n",
        "\n",
        "print(df.head())\n"
      ],
      "metadata": {
        "colab": {
          "base_uri": "https://localhost:8080/"
        },
        "id": "AyeqjIhxfXZ9",
        "outputId": "8fa07699-17c0-4ef7-e1ab-fd7f6a3b13ba"
      },
      "execution_count": 3,
      "outputs": [
        {
          "output_type": "stream",
          "name": "stdout",
          "text": [
            "                        image_path object_type material_type  object_label  \\\n",
            "0  dataset/dataset/lid/lid_016.jpg         lid       plastic             2   \n",
            "1  dataset/dataset/lid/lid_022.jpg         lid       plastic             2   \n",
            "2  dataset/dataset/lid/lid_036.jpg         lid       plastic             2   \n",
            "3  dataset/dataset/lid/lid_012.jpg         lid       plastic             2   \n",
            "4  dataset/dataset/lid/lid_040.jpg         lid       plastic             2   \n",
            "\n",
            "   material_label  \n",
            "0               1  \n",
            "1               1  \n",
            "2               1  \n",
            "3               1  \n",
            "4               1  \n"
          ]
        }
      ]
    },
    {
      "cell_type": "code",
      "source": [
        "from sklearn.model_selection import train_test_split\n",
        "\n",
        "train_df, val_df = train_test_split(\n",
        "    df,\n",
        "    test_size=0.2,\n",
        "    random_state=42,\n",
        "    stratify=df[['object_label', 'material_label']]\n",
        ")\n"
      ],
      "metadata": {
        "id": "6OGsmuY1i7bb"
      },
      "execution_count": 4,
      "outputs": []
    },
    {
      "cell_type": "markdown",
      "source": [
        "tf.data.Dataset 만들기"
      ],
      "metadata": {
        "id": "61TP_Juyi9jH"
      }
    },
    {
      "cell_type": "code",
      "source": [
        "import tensorflow as tf\n",
        "\n",
        "IMG_SIZE = (180, 180)\n",
        "BATCH_SIZE = 32\n",
        "\n",
        "def preprocess(image_path, object_label, material_label):\n",
        "    image = tf.io.read_file(image_path)\n",
        "    image = tf.image.decode_jpeg(image, channels=3)\n",
        "    image = tf.image.resize(image, IMG_SIZE)\n",
        "    image = image / 255.0\n",
        "    return image, {'object_output': object_label, 'material_output': material_label}\n",
        "\n",
        "def create_dataset(dataframe, shuffle=True):\n",
        "    paths = dataframe['image_path'].values\n",
        "    obj_labels = dataframe['object_label'].values\n",
        "    mat_labels = dataframe['material_label'].values\n",
        "\n",
        "    dataset = tf.data.Dataset.from_tensor_slices((paths, obj_labels, mat_labels))\n",
        "    if shuffle:\n",
        "        dataset = dataset.shuffle(buffer_size=len(dataframe))\n",
        "    dataset = dataset.map(preprocess, num_parallel_calls=tf.data.AUTOTUNE)\n",
        "    return dataset.batch(BATCH_SIZE).prefetch(tf.data.AUTOTUNE)\n",
        "\n",
        "train_ds = create_dataset(train_df)\n",
        "val_ds = create_dataset(val_df, shuffle=False)\n"
      ],
      "metadata": {
        "id": "iEZRJHHCi95n"
      },
      "execution_count": 5,
      "outputs": []
    },
    {
      "cell_type": "markdown",
      "source": [
        "데이터 증강 레이어 (훈련용에만 적용)"
      ],
      "metadata": {
        "id": "cAccz6__jB5z"
      }
    },
    {
      "cell_type": "code",
      "source": [
        "from tensorflow.keras import layers\n",
        "\n",
        "data_augmentation = tf.keras.Sequential([\n",
        "    layers.RandomFlip(\"horizontal\"),\n",
        "    layers.RandomRotation(0.1),\n",
        "    layers.RandomZoom(0.1),\n",
        "])\n",
        "\n",
        "def augment(image, labels):\n",
        "    return data_augmentation(image, training=True), labels\n",
        "\n",
        "train_ds = train_ds.map(augment, num_parallel_calls=tf.data.AUTOTUNE)\n"
      ],
      "metadata": {
        "id": "5PIPZxjgjCS4"
      },
      "execution_count": 6,
      "outputs": []
    },
    {
      "cell_type": "markdown",
      "source": [
        "모델 구성 (MobileNetV2 + Multi-output)"
      ],
      "metadata": {
        "id": "p8A1i8-QjEju"
      }
    },
    {
      "cell_type": "code",
      "source": [
        "from tensorflow.keras import models\n",
        "\n",
        "base_model = tf.keras.applications.MobileNetV2(\n",
        "    input_shape=(180, 180, 3),\n",
        "    include_top=False,\n",
        "    weights='imagenet'\n",
        ")\n",
        "base_model.trainable = False\n",
        "\n",
        "inputs = tf.keras.Input(shape=(180, 180, 3))\n",
        "x = base_model(inputs, training=False)\n",
        "x = layers.GlobalAveragePooling2D()(x)\n",
        "x = layers.Dense(128, activation='relu')(x)\n",
        "\n",
        "object_output = layers.Dense(4, activation='softmax', name='object_output')(x)\n",
        "material_output = layers.Dense(2, activation='softmax', name='material_output')(x)\n",
        "\n",
        "model = models.Model(inputs=inputs, outputs={'object_output': object_output, 'material_output': material_output})\n"
      ],
      "metadata": {
        "colab": {
          "base_uri": "https://localhost:8080/"
        },
        "id": "ypOSJJkbjFzh",
        "outputId": "bc05f28f-06ca-43c2-a3a7-2a89219e74a8"
      },
      "execution_count": 7,
      "outputs": [
        {
          "output_type": "stream",
          "name": "stderr",
          "text": [
            "/tmp/ipython-input-7-95944343.py:3: UserWarning: `input_shape` is undefined or non-square, or `rows` is not in [96, 128, 160, 192, 224]. Weights for input shape (224, 224) will be loaded as the default.\n",
            "  base_model = tf.keras.applications.MobileNetV2(\n"
          ]
        },
        {
          "output_type": "stream",
          "name": "stdout",
          "text": [
            "Downloading data from https://storage.googleapis.com/tensorflow/keras-applications/mobilenet_v2/mobilenet_v2_weights_tf_dim_ordering_tf_kernels_1.0_224_no_top.h5\n",
            "\u001b[1m9406464/9406464\u001b[0m \u001b[32m━━━━━━━━━━━━━━━━━━━━\u001b[0m\u001b[37m\u001b[0m \u001b[1m0s\u001b[0m 0us/step\n"
          ]
        }
      ]
    },
    {
      "cell_type": "markdown",
      "source": [
        "컴파일 & 학습"
      ],
      "metadata": {
        "id": "sM8pTtN4jHAZ"
      }
    },
    {
      "cell_type": "code",
      "source": [
        "model.compile(\n",
        "    optimizer='adam',\n",
        "    loss={\n",
        "        'object_output': 'sparse_categorical_crossentropy',\n",
        "        'material_output': 'sparse_categorical_crossentropy'\n",
        "    },\n",
        "    metrics={\n",
        "        'object_output': 'accuracy',\n",
        "        'material_output': 'accuracy'\n",
        "    }\n",
        ")\n",
        "\n",
        "history = model.fit(\n",
        "    train_ds,\n",
        "    validation_data=val_ds,\n",
        "    epochs=10\n",
        ")\n"
      ],
      "metadata": {
        "colab": {
          "base_uri": "https://localhost:8080/"
        },
        "id": "-b2DfyzejIVX",
        "outputId": "6362d1ea-da85-4898-946c-58d2b4615ff1"
      },
      "execution_count": 8,
      "outputs": [
        {
          "output_type": "stream",
          "name": "stdout",
          "text": [
            "Epoch 1/10\n",
            "\u001b[1m7/7\u001b[0m \u001b[32m━━━━━━━━━━━━━━━━━━━━\u001b[0m\u001b[37m\u001b[0m \u001b[1m21s\u001b[0m 2s/step - loss: 1.8339 - material_output_accuracy: 0.6633 - material_output_loss: 0.6267 - object_output_accuracy: 0.4848 - object_output_loss: 1.1960 - val_loss: 0.2599 - val_material_output_accuracy: 1.0000 - val_material_output_loss: 0.0426 - val_object_output_accuracy: 0.9444 - val_object_output_loss: 0.2292\n",
            "Epoch 2/10\n",
            "\u001b[1m7/7\u001b[0m \u001b[32m━━━━━━━━━━━━━━━━━━━━\u001b[0m\u001b[37m\u001b[0m \u001b[1m11s\u001b[0m 1s/step - loss: 0.2124 - material_output_accuracy: 0.9932 - material_output_loss: 0.0397 - object_output_accuracy: 0.9486 - object_output_loss: 0.1716 - val_loss: 0.0468 - val_material_output_accuracy: 0.9815 - val_material_output_loss: 0.0284 - val_object_output_accuracy: 1.0000 - val_object_output_loss: 0.0234\n",
            "Epoch 3/10\n",
            "\u001b[1m7/7\u001b[0m \u001b[32m━━━━━━━━━━━━━━━━━━━━\u001b[0m\u001b[37m\u001b[0m \u001b[1m10s\u001b[0m 1s/step - loss: 0.0484 - material_output_accuracy: 1.0000 - material_output_loss: 0.0169 - object_output_accuracy: 0.9951 - object_output_loss: 0.0310 - val_loss: 0.0196 - val_material_output_accuracy: 1.0000 - val_material_output_loss: 0.0120 - val_object_output_accuracy: 1.0000 - val_object_output_loss: 0.0104\n",
            "Epoch 4/10\n",
            "\u001b[1m7/7\u001b[0m \u001b[32m━━━━━━━━━━━━━━━━━━━━\u001b[0m\u001b[37m\u001b[0m \u001b[1m11s\u001b[0m 1s/step - loss: 0.0080 - material_output_accuracy: 1.0000 - material_output_loss: 0.0049 - object_output_accuracy: 1.0000 - object_output_loss: 0.0030 - val_loss: 0.0101 - val_material_output_accuracy: 1.0000 - val_material_output_loss: 0.0052 - val_object_output_accuracy: 1.0000 - val_object_output_loss: 0.0064\n",
            "Epoch 5/10\n",
            "\u001b[1m7/7\u001b[0m \u001b[32m━━━━━━━━━━━━━━━━━━━━\u001b[0m\u001b[37m\u001b[0m \u001b[1m12s\u001b[0m 2s/step - loss: 0.0103 - material_output_accuracy: 1.0000 - material_output_loss: 0.0038 - object_output_accuracy: 0.9952 - object_output_loss: 0.0075 - val_loss: 0.0046 - val_material_output_accuracy: 1.0000 - val_material_output_loss: 0.0033 - val_object_output_accuracy: 1.0000 - val_object_output_loss: 0.0019\n",
            "Epoch 6/10\n",
            "\u001b[1m7/7\u001b[0m \u001b[32m━━━━━━━━━━━━━━━━━━━━\u001b[0m\u001b[37m\u001b[0m \u001b[1m11s\u001b[0m 2s/step - loss: 0.0058 - material_output_accuracy: 1.0000 - material_output_loss: 0.0021 - object_output_accuracy: 1.0000 - object_output_loss: 0.0037 - val_loss: 0.0066 - val_material_output_accuracy: 1.0000 - val_material_output_loss: 0.0045 - val_object_output_accuracy: 1.0000 - val_object_output_loss: 0.0026\n",
            "Epoch 7/10\n",
            "\u001b[1m7/7\u001b[0m \u001b[32m━━━━━━━━━━━━━━━━━━━━\u001b[0m\u001b[37m\u001b[0m \u001b[1m12s\u001b[0m 2s/step - loss: 0.0098 - material_output_accuracy: 1.0000 - material_output_loss: 9.0413e-04 - object_output_accuracy: 1.0000 - object_output_loss: 0.0089 - val_loss: 0.0053 - val_material_output_accuracy: 1.0000 - val_material_output_loss: 0.0043 - val_object_output_accuracy: 1.0000 - val_object_output_loss: 0.0017\n",
            "Epoch 8/10\n",
            "\u001b[1m7/7\u001b[0m \u001b[32m━━━━━━━━━━━━━━━━━━━━\u001b[0m\u001b[37m\u001b[0m \u001b[1m11s\u001b[0m 1s/step - loss: 0.0033 - material_output_accuracy: 1.0000 - material_output_loss: 0.0016 - object_output_accuracy: 1.0000 - object_output_loss: 0.0017 - val_loss: 0.0039 - val_material_output_accuracy: 1.0000 - val_material_output_loss: 0.0029 - val_object_output_accuracy: 1.0000 - val_object_output_loss: 0.0015\n",
            "Epoch 9/10\n",
            "\u001b[1m7/7\u001b[0m \u001b[32m━━━━━━━━━━━━━━━━━━━━\u001b[0m\u001b[37m\u001b[0m \u001b[1m20s\u001b[0m 1s/step - loss: 0.0015 - material_output_accuracy: 1.0000 - material_output_loss: 6.1806e-04 - object_output_accuracy: 1.0000 - object_output_loss: 8.2600e-04 - val_loss: 0.0030 - val_material_output_accuracy: 1.0000 - val_material_output_loss: 0.0020 - val_object_output_accuracy: 1.0000 - val_object_output_loss: 0.0015\n",
            "Epoch 10/10\n",
            "\u001b[1m7/7\u001b[0m \u001b[32m━━━━━━━━━━━━━━━━━━━━\u001b[0m\u001b[37m\u001b[0m \u001b[1m12s\u001b[0m 2s/step - loss: 0.0025 - material_output_accuracy: 1.0000 - material_output_loss: 0.0016 - object_output_accuracy: 1.0000 - object_output_loss: 8.1574e-04 - val_loss: 0.0022 - val_material_output_accuracy: 1.0000 - val_material_output_loss: 0.0013 - val_object_output_accuracy: 1.0000 - val_object_output_loss: 0.0013\n"
          ]
        }
      ]
    },
    {
      "cell_type": "code",
      "source": [
        "model.save(\"/content/multilabel_model.keras\")  # ✅ 권장 포맷\n",
        "print(\"✅ 모델 저장 완료!\")\n"
      ],
      "metadata": {
        "colab": {
          "base_uri": "https://localhost:8080/"
        },
        "id": "VNKnOMomjvee",
        "outputId": "f6f08520-4259-4867-efa8-235be252da96"
      },
      "execution_count": 9,
      "outputs": [
        {
          "output_type": "stream",
          "name": "stdout",
          "text": [
            "✅ 모델 저장 완료!\n"
          ]
        }
      ]
    },
    {
      "cell_type": "code",
      "source": [
        "OBJECT_CLASS_NAMES = ['cup', 'cupholder', 'lid', 'straw']\n",
        "MATERIAL_CLASS_NAMES = ['paper', 'plastic']\n"
      ],
      "metadata": {
        "id": "jJWeTrXPjx1r"
      },
      "execution_count": 10,
      "outputs": []
    },
    {
      "cell_type": "code",
      "source": [
        "from tensorflow.keras.preprocessing import image\n",
        "import numpy as np\n",
        "from pathlib import Path\n",
        "\n",
        "def predict_image(img_path, threshold=0.6):\n",
        "    if not Path(img_path).exists():\n",
        "        print(f\"❌ 파일을 찾을 수 없습니다: {img_path}\")\n",
        "        return\n",
        "\n",
        "    img = image.load_img(img_path, target_size=IMG_SIZE)\n",
        "    img_array = image.img_to_array(img)\n",
        "    img_array = tf.expand_dims(img_array / 255.0, axis=0)\n",
        "\n",
        "    preds = model.predict(img_array)\n",
        "\n",
        "    object_probs = preds['object_output'][0]\n",
        "    material_probs = preds['material_output'][0]\n",
        "\n",
        "    object_label = np.argmax(object_probs)\n",
        "    material_label = np.argmax(material_probs)\n",
        "\n",
        "    object_conf = object_probs[object_label]\n",
        "    material_conf = material_probs[material_label]\n",
        "\n",
        "    if object_conf < threshold:\n",
        "        print(f\"🧠 물체 예측: ❓ 예측 불가 (Conf: {object_conf:.2f})\")\n",
        "    else:\n",
        "        print(f\"🧠 물체 예측: {OBJECT_CLASS_NAMES[object_label]} ({object_conf*100:.2f}%)\")\n",
        "\n",
        "    if material_conf < threshold:\n",
        "        print(f\"🧪 재질 예측: ❓ 예측 불가 (Conf: {material_conf:.2f})\")\n",
        "    else:\n",
        "        print(f\"🧪 재질 예측: {MATERIAL_CLASS_NAMES[material_label]} ({material_conf*100:.2f}%)\")\n",
        "\n",
        "\n"
      ],
      "metadata": {
        "id": "RhD8UXrgjzYt"
      },
      "execution_count": 11,
      "outputs": []
    },
    {
      "cell_type": "code",
      "source": [
        "predict_image(\"/content/dataset/dataset/cup/paper/cup_paper_001.jpg\")\n",
        "predict_image(\"/content/dataset/dataset/lid/lid_001.jpg\")\n"
      ],
      "metadata": {
        "colab": {
          "base_uri": "https://localhost:8080/"
        },
        "id": "Z7SNOZycj108",
        "outputId": "249edba3-8038-4758-fb3c-f06db8a1be13"
      },
      "execution_count": 12,
      "outputs": [
        {
          "output_type": "stream",
          "name": "stdout",
          "text": [
            "\u001b[1m1/1\u001b[0m \u001b[32m━━━━━━━━━━━━━━━━━━━━\u001b[0m\u001b[37m\u001b[0m \u001b[1m1s\u001b[0m 1s/step\n",
            "🧠 물체 예측: cup (100.00%)\n",
            "🧪 재질 예측: paper (99.89%)\n",
            "\u001b[1m1/1\u001b[0m \u001b[32m━━━━━━━━━━━━━━━━━━━━\u001b[0m\u001b[37m\u001b[0m \u001b[1m0s\u001b[0m 66ms/step\n",
            "🧠 물체 예측: lid (100.00%)\n",
            "🧪 재질 예측: plastic (100.00%)\n"
          ]
        }
      ]
    },
    {
      "cell_type": "code",
      "source": [
        "import matplotlib.pyplot as plt\n",
        "from tensorflow.keras.preprocessing import image\n",
        "import numpy as np\n",
        "\n",
        "def predict_and_show(img_path):\n",
        "    img = image.load_img(img_path, target_size=IMG_SIZE)\n",
        "    img_array = image.img_to_array(img)\n",
        "    img_array = tf.expand_dims(img_array / 255.0, axis=0)\n",
        "\n",
        "    preds = model.predict(img_array)\n",
        "\n",
        "    object_probs = preds['object_output'][0]\n",
        "    material_probs = preds['material_output'][0]\n",
        "\n",
        "    object_label = np.argmax(object_probs)\n",
        "    material_label = np.argmax(material_probs)\n",
        "\n",
        "    plt.imshow(img.astype(\"uint8\"))\n",
        "    plt.axis(\"off\")\n",
        "    plt.title(f\"🧠 {OBJECT_CLASS_NAMES[object_label]} ({object_probs[object_label]*100:.1f}%)\\n🧪 {MATERIAL_CLASS_NAMES[material_label]} ({material_probs[material_label]*100:.1f}%)\")\n",
        "    plt.show()\n"
      ],
      "metadata": {
        "id": "4SfFfS8AkFjF"
      },
      "execution_count": 13,
      "outputs": []
    },
    {
      "cell_type": "code",
      "source": [
        "predict_image(\"/content/dataset/dataset/cup/paper/cup_paper_013.jpg\")"
      ],
      "metadata": {
        "colab": {
          "base_uri": "https://localhost:8080/"
        },
        "id": "6ZNEL9BfkGwN",
        "outputId": "74800ed1-cbb5-470e-9d79-00426f845758"
      },
      "execution_count": 14,
      "outputs": [
        {
          "output_type": "stream",
          "name": "stdout",
          "text": [
            "\u001b[1m1/1\u001b[0m \u001b[32m━━━━━━━━━━━━━━━━━━━━\u001b[0m\u001b[37m\u001b[0m \u001b[1m0s\u001b[0m 59ms/step\n",
            "🧠 물체 예측: cup (100.00%)\n",
            "🧪 재질 예측: paper (99.70%)\n"
          ]
        }
      ]
    },
    {
      "cell_type": "code",
      "source": [
        "from sklearn.metrics import confusion_matrix, classification_report\n",
        "\n",
        "# 예: object_output 예측\n",
        "y_true = []\n",
        "y_pred = []\n",
        "\n",
        "for images, labels in val_ds.unbatch():\n",
        "    pred = model.predict(tf.expand_dims(images, axis=0), verbose=0)\n",
        "    obj_label = labels['object_output'].numpy()\n",
        "    pred_label = np.argmax(pred['object_output'][0])\n",
        "    y_true.append(obj_label)\n",
        "    y_pred.append(pred_label)\n",
        "\n",
        "print(confusion_matrix(y_true, y_pred))\n",
        "print(classification_report(y_true, y_pred, target_names=OBJECT_CLASS_NAMES))\n"
      ],
      "metadata": {
        "colab": {
          "base_uri": "https://localhost:8080/"
        },
        "id": "NilZzHgQid2S",
        "outputId": "90b4cf6d-c42b-4e30-8267-cd892e08102b"
      },
      "execution_count": 16,
      "outputs": [
        {
          "output_type": "stream",
          "name": "stdout",
          "text": [
            "[[14  0  0  0]\n",
            " [ 0 12  0  0]\n",
            " [ 0  0 12  0]\n",
            " [ 0  0  0 16]]\n",
            "              precision    recall  f1-score   support\n",
            "\n",
            "         cup       1.00      1.00      1.00        14\n",
            "   cupholder       1.00      1.00      1.00        12\n",
            "         lid       1.00      1.00      1.00        12\n",
            "       straw       1.00      1.00      1.00        16\n",
            "\n",
            "    accuracy                           1.00        54\n",
            "   macro avg       1.00      1.00      1.00        54\n",
            "weighted avg       1.00      1.00      1.00        54\n",
            "\n"
          ]
        }
      ]
    },
    {
      "cell_type": "code",
      "source": [
        "import matplotlib.pyplot as plt\n",
        "\n",
        "plt.plot(history.history['object_output_accuracy'], label='Object Train Acc')\n",
        "plt.plot(history.history['val_object_output_accuracy'], label='Object Val Acc')\n",
        "plt.plot(history.history['material_output_accuracy'], label='Material Train Acc')\n",
        "plt.plot(history.history['val_material_output_accuracy'], label='Material Val Acc')\n",
        "plt.title('Accuracy Trends')\n",
        "plt.xlabel('Epoch')\n",
        "plt.ylabel('Accuracy')\n",
        "plt.legend()\n",
        "plt.grid()\n",
        "plt.show()\n"
      ],
      "metadata": {
        "colab": {
          "base_uri": "https://localhost:8080/",
          "height": 472
        },
        "id": "8WrIb6FVie5y",
        "outputId": "b5a67504-2c40-461f-960c-4b8e783279f6"
      },
      "execution_count": 17,
      "outputs": [
        {
          "output_type": "display_data",
          "data": {
            "text/plain": [
              "<Figure size 640x480 with 1 Axes>"
            ],
            "image/png": "[encoded data removed]"
          },
          "metadata": {}
        }
      ]
    }
  ]
}