{
  "nbformat": 4,
  "nbformat_minor": 0,
  "metadata": {
    "colab": {
      "provenance": []
    },
    "kernelspec": {
      "name": "python3",
      "display_name": "Python 3"
    },
    "language_info": {
      "name": "python"
    }
  },
  "cells": [
    {
      "cell_type": "code",
      "source": [
        "!pip install --upgrade --force-reinstall pandas\n"
      ],
      "metadata": {
        "colab": {
          "base_uri": "https://localhost:8080/",
          "height": 1000
        },
        "id": "07KZU09RigaM",
        "outputId": "8d1e2ca5-43b0-4a9d-df78-33e00c1dc0a5"
      },
      "execution_count": null,
      "outputs": [
        {
          "output_type": "stream",
          "name": "stdout",
          "text": [
            "Collecting pandas\n",
            "  Using cached pandas-2.3.1-cp311-cp311-manylinux_2_17_x86_64.manylinux2014_x86_64.whl.metadata (91 kB)\n",
            "Collecting numpy>=1.23.2 (from pandas)\n",
            "  Using cached numpy-2.3.2-cp311-cp311-manylinux_2_27_x86_64.manylinux_2_28_x86_64.whl.metadata (62 kB)\n",
            "Collecting python-dateutil>=2.8.2 (from pandas)\n",
            "  Using cached python_dateutil-2.9.0.post0-py2.py3-none-any.whl.metadata (8.4 kB)\n",
            "Collecting pytz>=2020.1 (from pandas)\n",
            "  Using cached pytz-2025.2-py2.py3-none-any.whl.metadata (22 kB)\n",
            "Collecting tzdata>=2022.7 (from pandas)\n",
            "  Using cached tzdata-2025.2-py2.py3-none-any.whl.metadata (1.4 kB)\n",
            "Collecting six>=1.5 (from python-dateutil>=2.8.2->pandas)\n",
            "  Using cached six-1.17.0-py2.py3-none-any.whl.metadata (1.7 kB)\n",
            "Using cached pandas-2.3.1-cp311-cp311-manylinux_2_17_x86_64.manylinux2014_x86_64.whl (12.4 MB)\n",
            "Using cached numpy-2.3.2-cp311-cp311-manylinux_2_27_x86_64.manylinux_2_28_x86_64.whl (16.9 MB)\n",
            "Using cached python_dateutil-2.9.0.post0-py2.py3-none-any.whl (229 kB)\n",
            "Using cached pytz-2025.2-py2.py3-none-any.whl (509 kB)\n",
            "Using cached tzdata-2025.2-py2.py3-none-any.whl (347 kB)\n",
            "Using cached six-1.17.0-py2.py3-none-any.whl (11 kB)\n",
            "Installing collected packages: pytz, tzdata, six, numpy, python-dateutil, pandas\n",
            "  Attempting uninstall: pytz\n",
            "    Found existing installation: pytz 2025.2\n",
            "    Uninstalling pytz-2025.2:\n",
            "      Successfully uninstalled pytz-2025.2\n",
            "  Attempting uninstall: tzdata\n",
            "    Found existing installation: tzdata 2025.2\n",
            "    Uninstalling tzdata-2025.2:\n",
            "      Successfully uninstalled tzdata-2025.2\n",
            "  Attempting uninstall: six\n",
            "    Found existing installation: six 1.17.0\n",
            "    Uninstalling six-1.17.0:\n",
            "      Successfully uninstalled six-1.17.0\n",
            "  Attempting uninstall: numpy\n",
            "    Found existing installation: numpy 2.3.2\n",
            "    Uninstalling numpy-2.3.2:\n",
            "      Successfully uninstalled numpy-2.3.2\n",
            "  Attempting uninstall: python-dateutil\n",
            "    Found existing installation: python-dateutil 2.9.0.post0\n",
            "    Uninstalling python-dateutil-2.9.0.post0:\n",
            "      Successfully uninstalled python-dateutil-2.9.0.post0\n",
            "  Attempting uninstall: pandas\n",
            "    Found existing installation: pandas 2.3.1\n",
            "    Uninstalling pandas-2.3.1:\n",
            "      Successfully uninstalled pandas-2.3.1\n",
            "\u001b[31mERROR: pip's dependency resolver does not currently take into account all the packages that are installed. This behaviour is the source of the following dependency conflicts.\n",
            "google-colab 1.0.0 requires pandas==2.2.2, but you have pandas 2.3.1 which is incompatible.\n",
            "opencv-contrib-python 4.12.0.88 requires numpy<2.3.0,>=2; python_version >= \"3.9\", but you have numpy 2.3.2 which is incompatible.\n",
            "dask-cudf-cu12 25.6.0 requires pandas<2.2.4dev0,>=2.0, but you have pandas 2.3.1 which is incompatible.\n",
            "tensorflow 2.19.0 requires numpy<2.2.0,>=1.26.0, but you have numpy 2.3.2 which is incompatible.\n",
            "numba 0.60.0 requires numpy<2.1,>=1.22, but you have numpy 2.3.2 which is incompatible.\n",
            "opencv-python 4.12.0.88 requires numpy<2.3.0,>=2; python_version >= \"3.9\", but you have numpy 2.3.2 which is incompatible.\n",
            "opencv-python-headless 4.12.0.88 requires numpy<2.3.0,>=2; python_version >= \"3.9\", but you have numpy 2.3.2 which is incompatible.\n",
            "cupy-cuda12x 13.3.0 requires numpy<2.3,>=1.22, but you have numpy 2.3.2 which is incompatible.\n",
            "cudf-cu12 25.6.0 requires pandas<2.2.4dev0,>=2.0, but you have pandas 2.3.1 which is incompatible.\u001b[0m\u001b[31m\n",
            "\u001b[0mSuccessfully installed numpy-2.3.2 pandas-2.3.1 python-dateutil-2.9.0.post0 pytz-2025.2 six-1.17.0 tzdata-2025.2\n"
          ]
        },
        {
          "output_type": "display_data",
          "data": {
            "application/vnd.colab-display-data+json": {
              "pip_warning": {
                "packages": [
                  "dateutil",
                  "numpy",
                  "pandas",
                  "pytz",
                  "six"
                ]
              },
              "id": "946dc83261db4853865f45eef4238d16"
            }
          },
          "metadata": {}
        }
      ]
    },
    {
      "cell_type": "code",
      "source": [
        "import pandas as pd\n",
        "import os\n",
        "import zipfile\n",
        "from google.colab import files\n",
        "\n",
        "# 1. zip 파일 업로드 (already done)\n",
        "\n",
        "# 2. 압축 해제 (already done)\n",
        "# Let's assume the zip file created a single 'dataset' folder.\n",
        "# The following code correctly handles the case where the images are one level deeper.\n",
        "\n",
        "# 3. CSV 생성을 위한 경로 탐색\n",
        "# Check if the images are in 'dataset' or 'dataset/dataset'\n",
        "BASE_DIR = \"dataset\"\n",
        "DATASET_DIR = BASE_DIR\n",
        "if \"dataset\" in os.listdir(BASE_DIR) and os.path.isdir(os.path.join(BASE_DIR, \"dataset\")):\n",
        "    DATASET_DIR = os.path.join(BASE_DIR, \"dataset\")\n",
        "\n",
        "image_paths, object_types, material_types = [], [], []\n",
        "\n",
        "# 경로가 존재하는지 확인\n",
        "if not os.path.exists(DATASET_DIR):\n",
        "    print(f\"❌ '{DATASET_DIR}' 폴더를 찾을 수 없습니다. 압축 해제가 실패했거나 경로가 올바르지 않습니다.\")\n",
        "    exit()\n",
        "\n",
        "print(f\"✅ 데이터셋 경로: {DATASET_DIR}\")\n",
        "\n",
        "for obj in os.listdir(DATASET_DIR):\n",
        "    obj_path = os.path.join(DATASET_DIR, obj)\n",
        "\n",
        "    if not os.path.isdir(obj_path):\n",
        "        continue\n",
        "\n",
        "    if obj == 'cup':\n",
        "        for material in os.listdir(obj_path):\n",
        "            mat_path = os.path.join(obj_path, material)\n",
        "            if os.path.isdir(mat_path):\n",
        "                for fname in os.listdir(mat_path):\n",
        "                    if fname.lower().endswith(('.jpg', '.jpeg', '.png')):\n",
        "                        image_paths.append(os.path.join(mat_path, fname))\n",
        "                        object_types.append(obj)\n",
        "                        material_types.append(material)\n",
        "\n",
        "    elif obj == 'straw':\n",
        "        for sub in os.listdir(obj_path):\n",
        "            sub_path = os.path.join(obj_path, sub)\n",
        "            if os.path.isdir(sub_path):\n",
        "                for fname in os.listdir(sub_path):\n",
        "                    if fname.lower().endswith(('.jpg', '.jpeg', '.png')):\n",
        "                        image_paths.append(os.path.join(sub_path, fname))\n",
        "                        object_types.append(obj)\n",
        "                        material_types.append(\"plastic\")\n",
        "            elif sub.lower().endswith(('.jpg', '.jpeg', '.png')):\n",
        "                image_paths.append(os.path.join(obj_path, sub))\n",
        "                object_types.append(obj)\n",
        "                material_types.append(\"plastic\")\n",
        "\n",
        "    elif obj == 'cupholder':\n",
        "        for fname in os.listdir(obj_path):\n",
        "            if fname.lower().endswith(('.jpg', '.jpeg', '.png')):\n",
        "                image_paths.append(os.path.join(obj_path, fname))\n",
        "                object_types.append(obj)\n",
        "                material_types.append(\"paper\")\n",
        "\n",
        "    elif obj == 'lid':\n",
        "        for fname in os.listdir(obj_path):\n",
        "            if fname.lower().endswith(('.jpg', '.jpeg', '.png')):\n",
        "                image_paths.append(os.path.join(obj_path, fname))\n",
        "                object_types.append(obj)\n",
        "                material_types.append(\"plastic\")\n",
        "\n",
        "    elif obj == 'none':\n",
        "        for fname in os.listdir(obj_path):\n",
        "            if fname.lower().endswith(('.jpg', '.jpeg', '.png')):\n",
        "                image_paths.append(os.path.join(obj_path, fname))\n",
        "                object_types.append(\"none\")\n",
        "                material_types.append(\"none\")\n",
        "\n",
        "# 4. CSV 생성 및 저장\n",
        "if image_paths:\n",
        "    df = pd.DataFrame({\n",
        "        \"image_path\": image_paths,\n",
        "        \"object_type\": object_types,\n",
        "        \"material_type\": material_types\n",
        "    })\n",
        "    df.to_csv(\"labels.csv\", index=False)\n",
        "    print(f\"✅ labels.csv 생성 완료! 총 {len(df)}개의 데이터가 포함되었습니다.\")\n",
        "\n",
        "    # 5. 다운로드\n",
        "    files.download(\"labels.csv\")\n",
        "    print(\"✅ labels.csv 다운로드 완료!\")\n",
        "else:\n",
        "    print(\"⚠️ 이미지 파일이 발견되지 않았습니다. CSV 파일을 생성하지 않습니다.\")"
      ],
      "metadata": {
        "colab": {
          "base_uri": "https://localhost:8080/",
          "height": 71
        },
        "id": "RwqKu9FscC8o",
        "outputId": "3232a56d-b676-4e3d-eb07-ae2a5606dbea"
      },
      "execution_count": null,
      "outputs": [
        {
          "output_type": "stream",
          "name": "stdout",
          "text": [
            "✅ 데이터셋 경로: dataset/dataset\n",
            "✅ labels.csv 생성 완료! 총 331개의 데이터가 포함되었습니다.\n"
          ]
        },
        {
          "output_type": "display_data",
          "data": {
            "text/plain": [
              "<IPython.core.display.Javascript object>"
            ],
            "application/javascript": [
              "\n",
              "    async function download(id, filename, size) {\n",
              "      if (!google.colab.kernel.accessAllowed) {\n",
              "        return;\n",
              "      }\n",
              "      const div = document.createElement('div');\n",
              "      const label = document.createElement('label');\n",
              "      label.textContent = `Downloading \"${filename}\": `;\n",
              "      div.appendChild(label);\n",
              "      const progress = document.createElement('progress');\n",
              "      progress.max = size;\n",
              "      div.appendChild(progress);\n",
              "      document.body.appendChild(div);\n",
              "\n",
              "      const buffers = [];\n",
              "      let downloaded = 0;\n",
              "\n",
              "      const channel = await google.colab.kernel.comms.open(id);\n",
              "      // Send a message to notify the kernel that we're ready.\n",
              "      channel.send({})\n",
              "\n",
              "      for await (const message of channel.messages) {\n",
              "        // Send a message to notify the kernel that we're ready.\n",
              "        channel.send({})\n",
              "        if (message.buffers) {\n",
              "          for (const buffer of message.buffers) {\n",
              "            buffers.push(buffer);\n",
              "            downloaded += buffer.byteLength;\n",
              "            progress.value = downloaded;\n",
              "          }\n",
              "        }\n",
              "      }\n",
              "      const blob = new Blob(buffers, {type: 'application/binary'});\n",
              "      const a = document.createElement('a');\n",
              "      a.href = window.URL.createObjectURL(blob);\n",
              "      a.download = filename;\n",
              "      div.appendChild(a);\n",
              "      a.click();\n",
              "      div.remove();\n",
              "    }\n",
              "  "
            ]
          },
          "metadata": {}
        },
        {
          "output_type": "display_data",
          "data": {
            "text/plain": [
              "<IPython.core.display.Javascript object>"
            ],
            "application/javascript": [
              "download(\"download_e7922185-2e0c-4acc-93ae-7e4e0f447d66\", \"labels.csv\", 16888)"
            ]
          },
          "metadata": {}
        },
        {
          "output_type": "stream",
          "name": "stdout",
          "text": [
            "✅ labels.csv 다운로드 완료!\n"
          ]
        }
      ]
    },
    {
      "cell_type": "code",
      "source": [
        "import tensorflow as tf\n",
        "from tensorflow.keras import layers, models\n",
        "import pandas as pd\n",
        "from sklearn.model_selection import train_test_split\n",
        "from tensorflow.keras.preprocessing import image\n",
        "import numpy as np\n",
        "from pathlib import Path\n",
        "\n",
        "df = pd.read_csv(\"/content/labels.csv\")\n",
        "\n",
        "# ✅ 'none' 클래스까지 포함\n",
        "object_type_map = {'cup': 0, 'cupholder': 1, 'lid': 2, 'straw': 3, 'none': 4}\n",
        "material_type_map = {'paper': 0, 'plastic': 1, 'none': 2}\n",
        "\n",
        "# ✅ 매핑 적용\n",
        "df['object_label'] = df['object_type'].map(object_type_map)\n",
        "df['material_label'] = df['material_type'].map(material_type_map)\n",
        "\n",
        "print(df.head())\n"
      ],
      "metadata": {
        "id": "AyeqjIhxfXZ9",
        "colab": {
          "base_uri": "https://localhost:8080/"
        },
        "outputId": "12507975-f86b-4538-e8a9-232491a713a0"
      },
      "execution_count": null,
      "outputs": [
        {
          "output_type": "stream",
          "name": "stdout",
          "text": [
            "                            image_path object_type material_type  \\\n",
            "0  dataset/dataset/straw/straw_080.jpg       straw       plastic   \n",
            "1  dataset/dataset/straw/straw_034.jpg       straw       plastic   \n",
            "2  dataset/dataset/straw/straw_009.jpg       straw       plastic   \n",
            "3  dataset/dataset/straw/straw_002.jpg       straw       plastic   \n",
            "4  dataset/dataset/straw/straw_008.jpg       straw       plastic   \n",
            "\n",
            "   object_label  material_label  \n",
            "0             3               1  \n",
            "1             3               1  \n",
            "2             3               1  \n",
            "3             3               1  \n",
            "4             3               1  \n"
          ]
        }
      ]
    },
    {
      "cell_type": "code",
      "source": [
        "from sklearn.model_selection import train_test_split\n",
        "\n",
        "train_df, val_df = train_test_split(\n",
        "    df,\n",
        "    test_size=0.2,\n",
        "    random_state=42,\n",
        "    stratify=df[['object_label', 'material_label']]\n",
        ")\n"
      ],
      "metadata": {
        "id": "6OGsmuY1i7bb"
      },
      "execution_count": null,
      "outputs": []
    },
    {
      "cell_type": "markdown",
      "source": [
        "tf.data.Dataset 만들기"
      ],
      "metadata": {
        "id": "61TP_Juyi9jH"
      }
    },
    {
      "cell_type": "code",
      "source": [
        "import tensorflow as tf\n",
        "\n",
        "IMG_SIZE = (180, 180)\n",
        "BATCH_SIZE = 32\n",
        "\n",
        "def preprocess(image_path, object_label, material_label):\n",
        "    image = tf.io.read_file(image_path)\n",
        "    image = tf.image.decode_jpeg(image, channels=3)\n",
        "    image = tf.image.resize(image, IMG_SIZE)\n",
        "    image = image / 255.0\n",
        "    return image, {'object_output': object_label, 'material_output': material_label}\n",
        "\n",
        "def create_dataset(dataframe, shuffle=True):\n",
        "    paths = dataframe['image_path'].values\n",
        "    obj_labels = dataframe['object_label'].values\n",
        "    mat_labels = dataframe['material_label'].values\n",
        "\n",
        "    dataset = tf.data.Dataset.from_tensor_slices((paths, obj_labels, mat_labels))\n",
        "    if shuffle:\n",
        "        dataset = dataset.shuffle(buffer_size=len(dataframe))\n",
        "    dataset = dataset.map(preprocess, num_parallel_calls=tf.data.AUTOTUNE)\n",
        "    return dataset.batch(BATCH_SIZE).prefetch(tf.data.AUTOTUNE)\n",
        "\n",
        "train_ds = create_dataset(train_df)\n",
        "val_ds = create_dataset(val_df, shuffle=False)\n"
      ],
      "metadata": {
        "id": "iEZRJHHCi95n"
      },
      "execution_count": null,
      "outputs": []
    },
    {
      "cell_type": "markdown",
      "source": [
        "데이터 증강 레이어 (훈련용에만 적용)"
      ],
      "metadata": {
        "id": "cAccz6__jB5z"
      }
    },
    {
      "cell_type": "code",
      "source": [
        "from tensorflow.keras import layers\n",
        "\n",
        "data_augmentation = tf.keras.Sequential([\n",
        "    layers.RandomFlip(\"horizontal\"),\n",
        "    layers.RandomRotation(0.1),\n",
        "    layers.RandomZoom(0.1),\n",
        "])\n",
        "\n",
        "def augment(image, labels):\n",
        "    return data_augmentation(image, training=True), labels\n",
        "\n",
        "train_ds = train_ds.map(augment, num_parallel_calls=tf.data.AUTOTUNE)\n"
      ],
      "metadata": {
        "id": "5PIPZxjgjCS4"
      },
      "execution_count": null,
      "outputs": []
    },
    {
      "cell_type": "markdown",
      "source": [
        "모델 구성 (MobileNetV2 + Multi-output)"
      ],
      "metadata": {
        "id": "p8A1i8-QjEju"
      }
    },
    {
      "cell_type": "code",
      "source": [
        "from tensorflow.keras import models\n",
        "\n",
        "base_model = tf.keras.applications.MobileNetV2(\n",
        "    input_shape=(180, 180, 3),\n",
        "    include_top=False,\n",
        "    weights='imagenet'\n",
        ")\n",
        "base_model.trainable = False\n",
        "\n",
        "inputs = tf.keras.Input(shape=(180, 180, 3))\n",
        "x = base_model(inputs, training=False)\n",
        "x = layers.GlobalAveragePooling2D()(x)\n",
        "x = layers.Dense(128, activation='relu')(x)\n",
        "\n",
        "# 수정된 부분: object_output 노드 수 5로 변경\n",
        "object_output = layers.Dense(5, activation='softmax', name='object_output')(x)\n",
        "# 수정된 부분: material_output 노드 수 3으로 변경\n",
        "material_output = layers.Dense(3, activation='softmax', name='material_output')(x)\n",
        "\n",
        "model = models.Model(inputs=inputs, outputs={'object_output': object_output, 'material_output': material_output})\n"
      ],
      "metadata": {
        "id": "ypOSJJkbjFzh",
        "colab": {
          "base_uri": "https://localhost:8080/"
        },
        "outputId": "6385e650-4e3b-4e75-8cb7-75c0eeda6166"
      },
      "execution_count": null,
      "outputs": [
        {
          "output_type": "stream",
          "name": "stderr",
          "text": [
            "/tmp/ipython-input-417377871.py:3: UserWarning: `input_shape` is undefined or non-square, or `rows` is not in [96, 128, 160, 192, 224]. Weights for input shape (224, 224) will be loaded as the default.\n",
            "  base_model = tf.keras.applications.MobileNetV2(\n"
          ]
        },
        {
          "output_type": "stream",
          "name": "stdout",
          "text": [
            "Downloading data from https://storage.googleapis.com/tensorflow/keras-applications/mobilenet_v2/mobilenet_v2_weights_tf_dim_ordering_tf_kernels_1.0_224_no_top.h5\n",
            "\u001b[1m9406464/9406464\u001b[0m \u001b[32m━━━━━━━━━━━━━━━━━━━━\u001b[0m\u001b[37m\u001b[0m \u001b[1m0s\u001b[0m 0us/step\n"
          ]
        }
      ]
    },
    {
      "cell_type": "markdown",
      "source": [
        "컴파일 & 학습"
      ],
      "metadata": {
        "id": "sM8pTtN4jHAZ"
      }
    },
    {
      "cell_type": "code",
      "source": [
        "model.compile(\n",
        "    optimizer='adam',\n",
        "    loss={\n",
        "        'object_output': 'sparse_categorical_crossentropy',\n",
        "        'material_output': 'sparse_categorical_crossentropy'\n",
        "    },\n",
        "    metrics={\n",
        "        'object_output': 'accuracy',\n",
        "        'material_output': 'accuracy'\n",
        "    }\n",
        ")\n",
        "\n",
        "history = model.fit(\n",
        "    train_ds,\n",
        "    validation_data=val_ds,\n",
        "    epochs=10\n",
        ")"
      ],
      "metadata": {
        "id": "-b2DfyzejIVX",
        "colab": {
          "base_uri": "https://localhost:8080/"
        },
        "outputId": "53997cf2-4478-45b7-ba22-866cec981ed8"
      },
      "execution_count": null,
      "outputs": [
        {
          "output_type": "stream",
          "name": "stdout",
          "text": [
            "Epoch 1/10\n",
            "\u001b[1m9/9\u001b[0m \u001b[32m━━━━━━━━━━━━━━━━━━━━\u001b[0m\u001b[37m\u001b[0m \u001b[1m30s\u001b[0m 3s/step - loss: 1.6114 - material_output_accuracy: 0.6845 - material_output_loss: 0.7056 - object_output_accuracy: 0.6725 - object_output_loss: 0.8901 - val_loss: 0.0879 - val_material_output_accuracy: 0.9851 - val_material_output_loss: 0.0308 - val_object_output_accuracy: 1.0000 - val_object_output_loss: 0.0461\n",
            "Epoch 2/10\n",
            "\u001b[1m9/9\u001b[0m \u001b[32m━━━━━━━━━━━━━━━━━━━━\u001b[0m\u001b[37m\u001b[0m \u001b[1m15s\u001b[0m 2s/step - loss: 0.0742 - material_output_accuracy: 0.9933 - material_output_loss: 0.0299 - object_output_accuracy: 0.9892 - object_output_loss: 0.0434 - val_loss: 0.0142 - val_material_output_accuracy: 1.0000 - val_material_output_loss: 0.0042 - val_object_output_accuracy: 1.0000 - val_object_output_loss: 0.0076\n",
            "Epoch 3/10\n",
            "\u001b[1m9/9\u001b[0m \u001b[32m━━━━━━━━━━━━━━━━━━━━\u001b[0m\u001b[37m\u001b[0m \u001b[1m18s\u001b[0m 2s/step - loss: 0.0145 - material_output_accuracy: 1.0000 - material_output_loss: 0.0071 - object_output_accuracy: 1.0000 - object_output_loss: 0.0074 - val_loss: 0.0045 - val_material_output_accuracy: 1.0000 - val_material_output_loss: 0.0012 - val_object_output_accuracy: 1.0000 - val_object_output_loss: 0.0025\n",
            "Epoch 4/10\n",
            "\u001b[1m9/9\u001b[0m \u001b[32m━━━━━━━━━━━━━━━━━━━━\u001b[0m\u001b[37m\u001b[0m \u001b[1m17s\u001b[0m 2s/step - loss: 0.0092 - material_output_accuracy: 1.0000 - material_output_loss: 0.0027 - object_output_accuracy: 0.9989 - object_output_loss: 0.0063 - val_loss: 0.0017 - val_material_output_accuracy: 1.0000 - val_material_output_loss: 5.0426e-04 - val_object_output_accuracy: 1.0000 - val_object_output_loss: 9.3823e-04\n",
            "Epoch 5/10\n",
            "\u001b[1m9/9\u001b[0m \u001b[32m━━━━━━━━━━━━━━━━━━━━\u001b[0m\u001b[37m\u001b[0m \u001b[1m22s\u001b[0m 2s/step - loss: 0.0041 - material_output_accuracy: 1.0000 - material_output_loss: 8.4680e-04 - object_output_accuracy: 1.0000 - object_output_loss: 0.0032 - val_loss: 0.0014 - val_material_output_accuracy: 1.0000 - val_material_output_loss: 3.5981e-04 - val_object_output_accuracy: 1.0000 - val_object_output_loss: 0.0015\n",
            "Epoch 6/10\n",
            "\u001b[1m9/9\u001b[0m \u001b[32m━━━━━━━━━━━━━━━━━━━━\u001b[0m\u001b[37m\u001b[0m \u001b[1m15s\u001b[0m 2s/step - loss: 0.0039 - material_output_accuracy: 1.0000 - material_output_loss: 9.6891e-04 - object_output_accuracy: 1.0000 - object_output_loss: 0.0029 - val_loss: 7.3447e-04 - val_material_output_accuracy: 1.0000 - val_material_output_loss: 2.8526e-04 - val_object_output_accuracy: 1.0000 - val_object_output_loss: 3.8761e-04\n",
            "Epoch 7/10\n",
            "\u001b[1m9/9\u001b[0m \u001b[32m━━━━━━━━━━━━━━━━━━━━\u001b[0m\u001b[37m\u001b[0m \u001b[1m15s\u001b[0m 2s/step - loss: 0.0014 - material_output_accuracy: 1.0000 - material_output_loss: 4.1536e-04 - object_output_accuracy: 1.0000 - object_output_loss: 0.0010 - val_loss: 7.3475e-04 - val_material_output_accuracy: 1.0000 - val_material_output_loss: 2.5439e-04 - val_object_output_accuracy: 1.0000 - val_object_output_loss: 3.5475e-04\n",
            "Epoch 8/10\n",
            "\u001b[1m9/9\u001b[0m \u001b[32m━━━━━━━━━━━━━━━━━━━━\u001b[0m\u001b[37m\u001b[0m \u001b[1m15s\u001b[0m 2s/step - loss: 0.0018 - material_output_accuracy: 1.0000 - material_output_loss: 7.7047e-04 - object_output_accuracy: 1.0000 - object_output_loss: 0.0010 - val_loss: 8.3985e-04 - val_material_output_accuracy: 1.0000 - val_material_output_loss: 2.3379e-04 - val_object_output_accuracy: 1.0000 - val_object_output_loss: 4.9329e-04\n",
            "Epoch 9/10\n",
            "\u001b[1m9/9\u001b[0m \u001b[32m━━━━━━━━━━━━━━━━━━━━\u001b[0m\u001b[37m\u001b[0m \u001b[1m14s\u001b[0m 1s/step - loss: 0.0018 - material_output_accuracy: 1.0000 - material_output_loss: 5.3577e-04 - object_output_accuracy: 1.0000 - object_output_loss: 0.0012 - val_loss: 8.0117e-04 - val_material_output_accuracy: 1.0000 - val_material_output_loss: 2.4451e-04 - val_object_output_accuracy: 1.0000 - val_object_output_loss: 4.6651e-04\n",
            "Epoch 10/10\n",
            "\u001b[1m9/9\u001b[0m \u001b[32m━━━━━━━━━━━━━━━━━━━━\u001b[0m\u001b[37m\u001b[0m \u001b[1m23s\u001b[0m 2s/step - loss: 0.0010 - material_output_accuracy: 1.0000 - material_output_loss: 3.8350e-04 - object_output_accuracy: 1.0000 - object_output_loss: 6.3421e-04 - val_loss: 6.3258e-04 - val_material_output_accuracy: 1.0000 - val_material_output_loss: 2.4347e-04 - val_object_output_accuracy: 1.0000 - val_object_output_loss: 3.1456e-04\n"
          ]
        }
      ]
    },
    {
      "cell_type": "code",
      "source": [
        "model.save(\"/content/multilabel_model.keras\")\n",
        "print(\"모델 저장 완료!\")\n"
      ],
      "metadata": {
        "id": "VNKnOMomjvee",
        "colab": {
          "base_uri": "https://localhost:8080/"
        },
        "outputId": "ba75e2fc-f38e-4f44-f802-c47a6a1c509d"
      },
      "execution_count": null,
      "outputs": [
        {
          "output_type": "stream",
          "name": "stdout",
          "text": [
            "모델 저장 완료!\n"
          ]
        }
      ]
    },
    {
      "cell_type": "code",
      "source": [
        "# 수정된 부분: none 클래스 추가\n",
        "OBJECT_CLASS_NAMES = ['cup', 'cupholder', 'lid', 'straw', 'none']\n",
        "# 수정된 부분: none 클래스 추가\n",
        "MATERIAL_CLASS_NAMES = ['paper', 'plastic', 'none']"
      ],
      "metadata": {
        "id": "jJWeTrXPjx1r"
      },
      "execution_count": null,
      "outputs": []
    },
    {
      "cell_type": "code",
      "source": [
        "from tensorflow.keras.preprocessing import image\n",
        "import numpy as np\n",
        "from pathlib import Path\n",
        "\n",
        "def predict_image(img_path, threshold=0.6):\n",
        "    if not Path(img_path).exists():\n",
        "        print(f\"❌ 파일을 찾을 수 없습니다: {img_path}\")\n",
        "        return\n",
        "\n",
        "    img = image.load_img(img_path, target_size=IMG_SIZE)\n",
        "    img_array = image.img_to_array(img)\n",
        "    img_array = tf.expand_dims(img_array / 255.0, axis=0)\n",
        "\n",
        "    preds = model.predict(img_array, verbose=0)\n",
        "\n",
        "    object_probs = preds['object_output'][0]\n",
        "    material_probs = preds['material_output'][0]\n",
        "\n",
        "    object_label = np.argmax(object_probs)\n",
        "    material_label = np.argmax(material_probs)\n",
        "\n",
        "    # 수정된 부분: none 클래스 처리 로직\n",
        "    if object_probs[object_label] < threshold and object_label != 4:\n",
        "        print(f\"물체 예측: 예측 불가 (Conf: {object_probs[object_label]:.2f})\")\n",
        "    else:\n",
        "        print(f\"물체 예측: {OBJECT_CLASS_NAMES[object_label]} ({object_probs[object_label]*100:.2f}%)\")\n",
        "\n",
        "    # 수정된 부분: none 클래스 처리 로직\n",
        "    if material_probs[material_label] < threshold and material_label != 2:\n",
        "        print(f\"재질 예측: 예측 불가 (Conf: {material_probs[material_label]:.2f})\")\n",
        "    else:\n",
        "        print(f\"재질 예측: {MATERIAL_CLASS_NAMES[material_label]} ({material_probs[material_label]*100:.2f}%)\")\n",
        "\n",
        "\n"
      ],
      "metadata": {
        "id": "RhD8UXrgjzYt"
      },
      "execution_count": null,
      "outputs": []
    },
    {
      "cell_type": "code",
      "source": [
        "predict_image(\"/content/dataset/dataset/cup/paper/cup_paper_001.jpg\")\n",
        "predict_image(\"/content/dataset/dataset/lid/lid_001.jpg\")\n"
      ],
      "metadata": {
        "id": "Z7SNOZycj108",
        "colab": {
          "base_uri": "https://localhost:8080/"
        },
        "outputId": "7cfcd85b-2eff-4e41-bc1e-9ec36027e13c"
      },
      "execution_count": null,
      "outputs": [
        {
          "output_type": "stream",
          "name": "stdout",
          "text": [
            "물체 예측: cup (99.97%)\n",
            "재질 예측: paper (99.96%)\n",
            "물체 예측: lid (100.00%)\n",
            "재질 예측: plastic (100.00%)\n"
          ]
        }
      ]
    },
    {
      "cell_type": "code",
      "source": [
        "import matplotlib.pyplot as plt\n",
        "from tensorflow.keras.preprocessing import image\n",
        "import numpy as np\n",
        "\n",
        "def predict_and_show(img_path):\n",
        "    img = image.load_img(img_path, target_size=IMG_SIZE)\n",
        "    img_array = image.img_to_array(img)\n",
        "    img_array = tf.expand_dims(img_array / 255.0, axis=0)\n",
        "\n",
        "    preds = model.predict(img_array)\n",
        "\n",
        "    object_probs = preds['object_output'][0]\n",
        "    material_probs = preds['material_output'][0]\n",
        "\n",
        "    object_label = np.argmax(object_probs)\n",
        "    material_label = np.argmax(material_probs)\n",
        "\n",
        "    plt.imshow(img.astype(\"uint8\"))\n",
        "    plt.axis(\"off\")\n",
        "    plt.title(f\"🧠 {OBJECT_CLASS_NAMES[object_label]} ({object_probs[object_label]*100:.1f}%)\\n🧪 {MATERIAL_CLASS_NAMES[material_label]} ({material_probs[material_label]*100:.1f}%)\")\n",
        "    plt.show()\n"
      ],
      "metadata": {
        "id": "4SfFfS8AkFjF"
      },
      "execution_count": null,
      "outputs": []
    },
    {
      "cell_type": "code",
      "source": [
        "predict_image(\"/content/dataset/dataset/cup/paper/cup_paper_013.jpg\")"
      ],
      "metadata": {
        "id": "6ZNEL9BfkGwN",
        "colab": {
          "base_uri": "https://localhost:8080/"
        },
        "outputId": "7e3fa181-371a-46e4-9be7-09f0c0d4ac82"
      },
      "execution_count": null,
      "outputs": [
        {
          "output_type": "stream",
          "name": "stdout",
          "text": [
            "물체 예측: cup (99.99%)\n",
            "재질 예측: paper (99.89%)\n"
          ]
        }
      ]
    },
    {
      "cell_type": "code",
      "source": [
        "from sklearn.metrics import confusion_matrix, classification_report\n",
        "\n",
        "# 예: object_output 예측\n",
        "y_true = []\n",
        "y_pred = []\n",
        "\n",
        "for images, labels in val_ds.unbatch():\n",
        "    pred = model.predict(tf.expand_dims(images, axis=0), verbose=0)\n",
        "    obj_label = labels['object_output'].numpy()\n",
        "    pred_label = np.argmax(pred['object_output'][0])\n",
        "    y_true.append(obj_label)\n",
        "    y_pred.append(pred_label)\n",
        "\n",
        "print(confusion_matrix(y_true, y_pred))\n",
        "print(classification_report(y_true, y_pred, target_names=OBJECT_CLASS_NAMES))\n"
      ],
      "metadata": {
        "id": "NilZzHgQid2S",
        "colab": {
          "base_uri": "https://localhost:8080/"
        },
        "outputId": "458766f0-e603-4f19-cd34-621e36c7134a"
      },
      "execution_count": null,
      "outputs": [
        {
          "output_type": "stream",
          "name": "stdout",
          "text": [
            "[[14  0  0  0  0]\n",
            " [ 0 12  0  0  0]\n",
            " [ 0  0 12  0  0]\n",
            " [ 0  0  0 16  0]\n",
            " [ 0  0  0  0 13]]\n",
            "              precision    recall  f1-score   support\n",
            "\n",
            "         cup       1.00      1.00      1.00        14\n",
            "   cupholder       1.00      1.00      1.00        12\n",
            "         lid       1.00      1.00      1.00        12\n",
            "       straw       1.00      1.00      1.00        16\n",
            "        none       1.00      1.00      1.00        13\n",
            "\n",
            "    accuracy                           1.00        67\n",
            "   macro avg       1.00      1.00      1.00        67\n",
            "weighted avg       1.00      1.00      1.00        67\n",
            "\n"
          ]
        }
      ]
    },
    {
      "cell_type": "code",
      "source": [
        "import matplotlib.pyplot as plt\n",
        "\n",
        "plt.plot(history.history['object_output_accuracy'], label='Object Train Acc')\n",
        "plt.plot(history.history['val_object_output_accuracy'], label='Object Val Acc')\n",
        "plt.plot(history.history['material_output_accuracy'], label='Material Train Acc')\n",
        "plt.plot(history.history['val_material_output_accuracy'], label='Material Val Acc')\n",
        "plt.title('Accuracy Trends')\n",
        "plt.xlabel('Epoch')\n",
        "plt.ylabel('Accuracy')\n",
        "plt.legend()\n",
        "plt.grid()\n",
        "plt.show()\n"
      ],
      "metadata": {
        "id": "8WrIb6FVie5y",
        "colab": {
          "base_uri": "https://localhost:8080/",
          "height": 472
        },
        "outputId": "9bb2c256-7db3-44a1-f806-0d64b39a1c29"
      },
      "execution_count": null,
      "outputs": [
        {
          "output_type": "display_data",
          "data": {
            "text/plain": [
              "<Figure size 640x480 with 1 Axes>"
            ],
            "image/png": "[encoded data removed]"
          },
          "metadata": {}
        }
      ]
    }
  ]
}